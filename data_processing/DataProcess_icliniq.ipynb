{
 "cells": [
  {
   "cell_type": "code",
   "execution_count": 2,
   "metadata": {},
   "outputs": [],
   "source": [
    "# import libraries\n",
    "import json\n",
    "import pandas as pd\n",
    "import glob\n",
    "import numpy as np\n",
    "import matplotlib.pyplot as plt"
   ]
  },
  {
   "cell_type": "code",
   "execution_count": 5,
   "metadata": {},
   "outputs": [
    {
     "name": "stdout",
     "output_type": "stream",
     "text": [
      "                                                Question  \\\n",
      "0      my 5 1/2-year-old son displays adhd symptoms f...   \n",
      "1      my son has add and mild autism. he has been su...   \n",
      "2      my son is 13 and is depressed. he has been tak...   \n",
      "3      my 17-year-old has stopped taking concerta aft...   \n",
      "4      i've been taking respa-ar for allergies. i can...   \n",
      "...                                                  ...   \n",
      "29282  i belive my boyfriend is bipolar or has boderl...   \n",
      "29283  why do i feel so down when someone makes fun o...   \n",
      "29284  please help! my fiance is bipolar but will not...   \n",
      "29285  i constantly have bursts of anger for no reaso...   \n",
      "29286  hello i'm 20 years old and i've always seemed ...   \n",
      "\n",
      "                                                  Answer  \\\n",
      "0      adhd and bipolar mood disorder (bmd) can coexi...   \n",
      "1      stimulants in general tend to decrease appetit...   \n",
      "2      while any of the stimulant medications can inc...   \n",
      "3      seventy percent of teens diagnosed when they a...   \n",
      "4      try claritin-d which is located behind the pha...   \n",
      "...                                                  ...   \n",
      "29282  what your boyfriend seems to be having is bipo...   \n",
      "29283  depression is common with any comorbid illness...   \n",
      "29284  in bipolar disorder sometimes there are mixed ...   \n",
      "29285  hello. from your description here it seems you...   \n",
      "29286  the description provided indicates that you mi...   \n",
      "\n",
      "                                                     Tag  \n",
      "0             [attention deficit hyperactivity disorder]  \n",
      "1                                  [autism, weight loss]  \n",
      "2                                                     []  \n",
      "3             [attention deficit hyperactivity disorder]  \n",
      "4                                              [allergy]  \n",
      "...                                                  ...  \n",
      "29282  [smoking pot, bipolar, smoking, abusive, bipol...  \n",
      "29283                                         [dyslexia]  \n",
      "29284  [bipolar, medication, bipolar help, anger help...  \n",
      "29285  [bipolar disorder, anxiety, bipolar, angry, an...  \n",
      "29286  [bipolar disorder, abruptly, bipolar, about bi...  \n",
      "\n",
      "[29287 rows x 3 columns]\n"
     ]
    }
   ],
   "source": [
    "# Combine three datasets to one iClinq dataset\n",
    "def read_and_parse_json(file_path):\n",
    "    with open(file_path, 'r', encoding='utf-8') as json_file:\n",
    "        data = json.load(json_file)\n",
    "        \n",
    "    filtered_data = []\n",
    "    for item in data:\n",
    "        filtered_item = {key: item.get(key, None) for key in ['question', 'answer', 'tags']}\n",
    "        filtered_data.append(filtered_item)\n",
    "    \n",
    "    df = pd.DataFrame(filtered_data)\n",
    "    \n",
    "    for column in ['question', 'answer', 'tags']:\n",
    "        if column not in df.columns:\n",
    "            df[column] = None\n",
    "            \n",
    "    df.rename(columns={'question': 'Question', 'answer': 'Answer', 'tags': 'Tag'}, inplace=True)\n",
    "    \n",
    "    return df\n",
    "\n",
    "file_paths = ['webmdQAs.json', 'questionDoctorQAs.json', 'ehealthforumQAs.json']\n",
    "\n",
    "combined_df = pd.concat([read_and_parse_json(file_path) for file_path in file_paths], ignore_index=True)\n",
    "\n",
    "print(combined_df)"
   ]
  },
  {
   "cell_type": "code",
   "execution_count": 10,
   "metadata": {},
   "outputs": [],
   "source": [
    "df.reset_index(drop=True, inplace=True)\n",
    "\n",
    "# Save the DataFrame as a CSV file\n",
    "df.to_csv('icliniq_dataset.csv')"
   ]
  },
  {
   "cell_type": "code",
   "execution_count": 6,
   "metadata": {},
   "outputs": [
    {
     "data": {
      "text/html": [
       "<div>\n",
       "<style scoped>\n",
       "    .dataframe tbody tr th:only-of-type {\n",
       "        vertical-align: middle;\n",
       "    }\n",
       "\n",
       "    .dataframe tbody tr th {\n",
       "        vertical-align: top;\n",
       "    }\n",
       "\n",
       "    .dataframe thead th {\n",
       "        text-align: right;\n",
       "    }\n",
       "</style>\n",
       "<table border=\"1\" class=\"dataframe\">\n",
       "  <thead>\n",
       "    <tr style=\"text-align: right;\">\n",
       "      <th></th>\n",
       "      <th>Unnamed: 0</th>\n",
       "      <th>Question</th>\n",
       "      <th>Answer</th>\n",
       "      <th>Tag</th>\n",
       "    </tr>\n",
       "  </thead>\n",
       "  <tbody>\n",
       "    <tr>\n",
       "      <th>0</th>\n",
       "      <td>0</td>\n",
       "      <td>my 5 1/2-year-old son displays adhd symptoms f...</td>\n",
       "      <td>adhd and bipolar mood disorder (bmd) can coexi...</td>\n",
       "      <td>['attention deficit hyperactivity disorder']</td>\n",
       "    </tr>\n",
       "    <tr>\n",
       "      <th>1</th>\n",
       "      <td>1</td>\n",
       "      <td>my son has add and mild autism. he has been su...</td>\n",
       "      <td>stimulants in general tend to decrease appetit...</td>\n",
       "      <td>['autism', 'weight loss']</td>\n",
       "    </tr>\n",
       "    <tr>\n",
       "      <th>2</th>\n",
       "      <td>2</td>\n",
       "      <td>my son is 13 and is depressed. he has been tak...</td>\n",
       "      <td>while any of the stimulant medications can inc...</td>\n",
       "      <td>[]</td>\n",
       "    </tr>\n",
       "    <tr>\n",
       "      <th>3</th>\n",
       "      <td>3</td>\n",
       "      <td>my 17-year-old has stopped taking concerta aft...</td>\n",
       "      <td>seventy percent of teens diagnosed when they a...</td>\n",
       "      <td>['attention deficit hyperactivity disorder']</td>\n",
       "    </tr>\n",
       "    <tr>\n",
       "      <th>4</th>\n",
       "      <td>4</td>\n",
       "      <td>i've been taking respa-ar for allergies. i can...</td>\n",
       "      <td>try claritin-d which is located behind the pha...</td>\n",
       "      <td>['allergy']</td>\n",
       "    </tr>\n",
       "  </tbody>\n",
       "</table>\n",
       "</div>"
      ],
      "text/plain": [
       "   Unnamed: 0                                           Question  \\\n",
       "0           0  my 5 1/2-year-old son displays adhd symptoms f...   \n",
       "1           1  my son has add and mild autism. he has been su...   \n",
       "2           2  my son is 13 and is depressed. he has been tak...   \n",
       "3           3  my 17-year-old has stopped taking concerta aft...   \n",
       "4           4  i've been taking respa-ar for allergies. i can...   \n",
       "\n",
       "                                              Answer  \\\n",
       "0  adhd and bipolar mood disorder (bmd) can coexi...   \n",
       "1  stimulants in general tend to decrease appetit...   \n",
       "2  while any of the stimulant medications can inc...   \n",
       "3  seventy percent of teens diagnosed when they a...   \n",
       "4  try claritin-d which is located behind the pha...   \n",
       "\n",
       "                                            Tag  \n",
       "0  ['attention deficit hyperactivity disorder']  \n",
       "1                     ['autism', 'weight loss']  \n",
       "2                                            []  \n",
       "3  ['attention deficit hyperactivity disorder']  \n",
       "4                                   ['allergy']  "
      ]
     },
     "execution_count": 6,
     "metadata": {},
     "output_type": "execute_result"
    }
   ],
   "source": [
    "file_path = \"./icliniq_dataset.csv\"\n",
    "df_icliniq = pd.read_csv(file_path)\n",
    "df_icliniq.head()"
   ]
  },
  {
   "cell_type": "code",
   "execution_count": 7,
   "metadata": {},
   "outputs": [
    {
     "data": {
      "image/png": "[encoded data removed]",
      "text/plain": [
       "<Figure size 1152x288 with 1 Axes>"
      ]
     },
     "metadata": {
      "needs_background": "light"
     },
     "output_type": "display_data"
    }
   ],
   "source": [
    "df_icliniq['ans_len'] = df_icliniq['Answer'].str.split().str.len()\n",
    "\n",
    "plt.figure(figsize = (16,4))\n",
    "plt.hist(df_icliniq['ans_len'], bins=50)\n",
    "plt.xlabel(\"String Length of Answers\")\n",
    "plt.ylabel(\"Frequncy\")\n",
    "plt.title(\"String Length Histogram\")\n",
    "plt.grid(True)\n",
    "plt.show()"
   ]
  },
  {
   "cell_type": "code",
   "execution_count": 8,
   "metadata": {},
   "outputs": [
    {
     "name": "stdout",
     "output_type": "stream",
     "text": [
      "29752\n",
      "24911\n"
     ]
    }
   ],
   "source": [
    "df_icliniq_filtered = df_icliniq.loc[df_icliniq['ans_len'] <= 150]\n",
    "\n",
    "print(len(df_icliniq))\n",
    "print(len(df_icliniq_filtered))"
   ]
  },
  {
   "cell_type": "code",
   "execution_count": 10,
   "metadata": {},
   "outputs": [
    {
     "data": {
      "image/png": "[encoded data removed]",
      "text/plain": [
       "<Figure size 360x288 with 1 Axes>"
      ]
     },
     "metadata": {
      "needs_background": "light"
     },
     "output_type": "display_data"
    }
   ],
   "source": [
    "plt.figure(figsize = (5,4))\n",
    "plt.hist(df_icliniq_filtered['ans_len'], bins=50)\n",
    "plt.xlabel(\"String Length of iCliniq Answers\")\n",
    "plt.ylabel(\"Frequncy\")\n",
    "plt.title(\"String Length Histogram\")\n",
    "plt.grid(True)\n",
    "plt.show()"
   ]
  }
 ],
 "metadata": {
  "kernelspec": {
   "display_name": "Python 3",
   "language": "python",
   "name": "python3"
  },
  "language_info": {
   "codemirror_mode": {
    "name": "ipython",
    "version": 3
   },
   "file_extension": ".py",
   "mimetype": "text/x-python",
   "name": "python",
   "nbconvert_exporter": "python",
   "pygments_lexer": "ipython3",
   "version": "3.8.5"
  }
 },
 "nbformat": 4,
 "nbformat_minor": 4
}
